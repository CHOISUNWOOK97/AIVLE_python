{
 "cells": [
  {
   "cell_type": "code",
   "execution_count": 1,
   "metadata": {},
   "outputs": [
    {
     "name": "stdout",
     "output_type": "stream",
     "text": [
      "안녕하세요. 최선욱님\n"
     ]
    }
   ],
   "source": [
    "name = input('이름을 입력하세요 : ')\n",
    "print(f'안녕하세요. {name}님')"
   ]
  },
  {
   "cell_type": "code",
   "execution_count": 3,
   "metadata": {},
   "outputs": [
    {
     "name": "stdout",
     "output_type": "stream",
     "text": [
      "세 정수의 최댓값을 구합니다.\n",
      "세 정수의 최댓값은 3입니다.\n"
     ]
    }
   ],
   "source": [
    "print('세 정수의 최댓값을 구합니다.')\n",
    "a=int(input('정수 a의 값을 입력하세요.:'))\n",
    "b=int(input('정수 b의 값을 입력하세요.:'))\n",
    "c=int(input('정수 c의 값을 입력하세요.:'))\n",
    "\n",
    "maximum = a\n",
    "if b>maximum:\n",
    "    maximum=b\n",
    "\n",
    "if c>maximum:\n",
    "    maximum=c\n",
    "\n",
    "print(f'세 정수의 최댓값은 {maximum}입니다.')"
   ]
  },
  {
   "cell_type": "code",
   "execution_count": 5,
   "metadata": {},
   "outputs": [
    {
     "name": "stdout",
     "output_type": "stream",
     "text": [
      "4\n"
     ]
    }
   ],
   "source": [
    "def max3(a,b,c):\n",
    "    maximum = a\n",
    "    \n",
    "    if b>maximum:\n",
    "        maximum = b\n",
    "    if c>maximum:\n",
    "        maximum = c\n",
    "        \n",
    "    return maximum #최댓값 반환\n",
    "\n",
    "print(max3(4,1,3))"
   ]
  },
  {
   "attachments": {},
   "cell_type": "markdown",
   "metadata": {},
   "source": [
    "### 미니실습1\n",
    "- 4개 정수의 최댓값 구하기"
   ]
  },
  {
   "cell_type": "code",
   "execution_count": 6,
   "metadata": {},
   "outputs": [
    {
     "name": "stdout",
     "output_type": "stream",
     "text": [
      "4\n"
     ]
    }
   ],
   "source": [
    "a=int(input('a 값을 입력하세요.:'))\n",
    "b=int(input('b 값을 입력하세요.:'))\n",
    "c=int(input('c 값을 입력하세요.:'))\n",
    "d=int(input('d 값을 입력하세요.:'))\n",
    "\n",
    "def max4(a,b,c,d):\n",
    "    maximum = a\n",
    "    \n",
    "    if b>maximum:\n",
    "        maximum=b\n",
    "    if c>maximum:\n",
    "        maximum=c\n",
    "    if d>maximum:\n",
    "        maximum=d\n",
    "    \n",
    "    return maximum\n",
    "\n",
    "print(max4(a,b,c,d))"
   ]
  },
  {
   "cell_type": "code",
   "execution_count": 7,
   "metadata": {},
   "outputs": [
    {
     "name": "stdout",
     "output_type": "stream",
     "text": [
      "n은 양수입니다.\n"
     ]
    }
   ],
   "source": [
    "n=int(input('정수를 입력하세요.:'))\n",
    "\n",
    "if n>0:\n",
    "    print('n은 양수입니다.')\n",
    "elif n<0:\n",
    "    print('n은 음수입니다.')\n",
    "else:\n",
    "    print('n은 0입니다.')\n"
   ]
  },
  {
   "cell_type": "code",
   "execution_count": 10,
   "metadata": {},
   "outputs": [
    {
     "name": "stdout",
     "output_type": "stream",
     "text": [
      "5\n"
     ]
    }
   ],
   "source": [
    "def med3(a,b,c):\n",
    "    \n",
    "    if a>=b:\n",
    "        if b>=c:\n",
    "            return b\n",
    "        elif a<=c:\n",
    "            return a\n",
    "        else:\n",
    "            return c\n",
    "    elif a>=c:\n",
    "        return c\n",
    "    elif b<=c:\n",
    "        return b\n",
    "    else:\n",
    "        return a\n",
    "    \n",
    "a=int(input('a 값을 입력하세요.:'))\n",
    "b=int(input('b 값을 입력하세요.:'))\n",
    "c=int(input('c 값을 입력하세요.:'))\n",
    "\n",
    "print(med3(a,b,c))    "
   ]
  },
  {
   "attachments": {},
   "cell_type": "markdown",
   "metadata": {},
   "source": [
    "### 미니실습2\n",
    "- 수도 회사와 수도 사용량을 입력 받아 요금 출력하기"
   ]
  },
  {
   "attachments": {},
   "cell_type": "markdown",
   "metadata": {},
   "source": [
    "v1"
   ]
  },
  {
   "cell_type": "code",
   "execution_count": 13,
   "metadata": {},
   "outputs": [
    {
     "name": "stdout",
     "output_type": "stream",
     "text": [
      "고객님이 지불하실 수도 요금은 7650원 입니다.\n"
     ]
    }
   ],
   "source": [
    "def waterPay():\n",
    "    company = input('수도 회사를 입력하세요.(A/B):')\n",
    "    amount = int(input('수도 사용량(L)을 입력하세요.:'))\n",
    "    \n",
    "    if company == 'A':\n",
    "        payment = amount*100\n",
    "    else:\n",
    "        if amount<=50:\n",
    "            payment = amount*150\n",
    "        else:\n",
    "            payment = 50*150+(amount-50)*75\n",
    "    \n",
    "    print(f'고객님이 지불하실 수도 요금은 {payment}원 입니다.')\n",
    "    \n",
    "waterPay()"
   ]
  },
  {
   "attachments": {},
   "cell_type": "markdown",
   "metadata": {},
   "source": [
    "v2"
   ]
  },
  {
   "cell_type": "code",
   "execution_count": 14,
   "metadata": {},
   "outputs": [
    {
     "name": "stdout",
     "output_type": "stream",
     "text": [
      "수도 요금을 계산합니다\n",
      "수도요금은 11250원 입니다.\n"
     ]
    }
   ],
   "source": [
    "def waterPay(company, usage):\n",
    "    pay = 0\n",
    "    \n",
    "    if company == 'A':\n",
    "        pay = usage*100\n",
    "    else:\n",
    "        if usage <=50:\n",
    "            pay = usage*150\n",
    "        else:\n",
    "            pay = 50*150 + (usage-50)*75\n",
    "    \n",
    "    return pay\n",
    "\n",
    "print('수도 요금을 계산합니다')\n",
    "company = input('수도 회사를 입력하세요.: ')\n",
    "usage = int(input('수도 사용량을 입력하세요.: '))\n",
    "\n",
    "print(f'수도요금은 {waterPay(company, usage)}원 입니다.')"
   ]
  },
  {
   "cell_type": "code",
   "execution_count": 19,
   "metadata": {},
   "outputs": [
    {
     "name": "stdout",
     "output_type": "stream",
     "text": [
      "a부터 b까지 정수의 합을 구합니다.\n",
      "3+4+5+6+7=25\n"
     ]
    }
   ],
   "source": [
    "#a부터 b까지 정수의 합 구하기(for)\n",
    "\n",
    "print('a부터 b까지 정수의 합을 구합니다.')\n",
    "\n",
    "a=int(input('정수 a를 입력하세요.: '))\n",
    "b=int(input('정수 b를 입력하세요.: '))\n",
    "\n",
    "if a>b:\n",
    "    a,b = b,a\n",
    "\n",
    "sum=0\n",
    "\n",
    "for i in range(a,b+1):\n",
    "    if i<b:\n",
    "        print(f'{i}+', end='')\n",
    "    else:\n",
    "        print(f'{i}=', end='')\n",
    "    sum+=i\n",
    "print(sum)"
   ]
  },
  {
   "cell_type": "code",
   "execution_count": 21,
   "metadata": {},
   "outputs": [
    {
     "name": "stdout",
     "output_type": "stream",
     "text": [
      "a부터 b까지 정수의 합을 구합니다.\n",
      "3+4+5+6+7=25\n"
     ]
    }
   ],
   "source": [
    "print('a부터 b까지 정수의 합을 구합니다.')\n",
    "a=int(input('정수 a를 입력하세요.: '))\n",
    "b=int(input('정수 b를 입력하세요.: '))\n",
    "\n",
    "if a>b:\n",
    "    a,b = b,a\n",
    "    \n",
    "sum=0\n",
    "\n",
    "for i in range(a,b):\n",
    "    print(f'{i}+', end='')\n",
    "    sum+=i\n",
    "print(f'{b}=', end='')\n",
    "sum+=b\n",
    "\n",
    "print(sum)"
   ]
  },
  {
   "cell_type": "code",
   "execution_count": 23,
   "metadata": {},
   "outputs": [
    {
     "name": "stdout",
     "output_type": "stream",
     "text": [
      "*를 출력합니다.\n",
      "*****\n",
      "*****\n",
      "****\n"
     ]
    }
   ],
   "source": [
    "print('*를 출력합니다.')\n",
    "n = int(input('몇 개를 출력할까요?: '))\n",
    "w = int(input('몇 개마다 줄바꿈 할까요?: '))\n",
    "\n",
    "for i in range(n):\n",
    "    print('*', end='')\n",
    "    if i % w == w-1:\n",
    "        print()\n",
    "if n%w:\n",
    "    print()        "
   ]
  },
  {
   "cell_type": "code",
   "execution_count": 24,
   "metadata": {},
   "outputs": [
    {
     "name": "stdout",
     "output_type": "stream",
     "text": [
      "*를 출력합니다.\n",
      "*****\n",
      "*****\n",
      "****\n"
     ]
    }
   ],
   "source": [
    "print('*를 출력합니다.')\n",
    "n = int(input('몇 개를 출력할까요?: '))\n",
    "w = int(input('몇 개마다 줄바꿈할까요?: '))\n",
    "\n",
    "for _ in range(n // w): # n//w번 반복\n",
    "    print('*' * w)      # *를 w번 출력\n",
    "   \n",
    "rest = n % w \n",
    "if rest:                # rest 값이 있으면\n",
    "    print('*' * rest)   # rest 값만큼 * 반복 출력"
   ]
  },
  {
   "cell_type": "code",
   "execution_count": 26,
   "metadata": {},
   "outputs": [
    {
     "name": "stdout",
     "output_type": "stream",
     "text": [
      "1 X 32\n",
      "2 X 16\n",
      "4 X 8\n"
     ]
    }
   ],
   "source": [
    "area=int(input('직사각형의 넓이를 입력하세요.: '))\n",
    "\n",
    "for i in range(1,area+1):\n",
    "    if i*i>area: break\n",
    "    elif area%i: continue\n",
    "    print(f'{i} X {area//i}')"
   ]
  },
  {
   "attachments": {},
   "cell_type": "markdown",
   "metadata": {},
   "source": [
    "### 미니실습4\n",
    "- 직사각형의 넓이를 만족시키는 두 변의 길이 구하기"
   ]
  },
  {
   "cell_type": "code",
   "execution_count": 27,
   "metadata": {},
   "outputs": [
    {
     "name": "stdout",
     "output_type": "stream",
     "text": [
      "1 X 32\n",
      "2 X 16\n",
      "4 X 8\n",
      "8 X 4\n",
      "16 X 2\n",
      "32 X 1\n"
     ]
    }
   ],
   "source": [
    "area=int(input('직사각형의 넓이를 입력하세요.: '))\n",
    "\n",
    "for i in range(1,area+1):\n",
    "    if area%i: continue\n",
    "    print(f'{i} X {area//i}')"
   ]
  },
  {
   "cell_type": "code",
   "execution_count": 32,
   "metadata": {},
   "outputs": [
    {
     "name": "stdout",
     "output_type": "stream",
     "text": [
      "---------------------------\n",
      "  1   2   3   4   5   6   7   8   9 \n",
      "  2   4   6   8  10  12  14  16  18 \n",
      "  3   6   9  12  15  18  21  24  27 \n",
      "  4   8  12  16  20  24  28  32  36 \n",
      "  5  10  15  20  25  30  35  40  45 \n",
      "  6  12  18  24  30  36  42  48  54 \n",
      "  7  14  21  28  35  42  49  56  63 \n",
      "  8  16  24  32  40  48  56  64  72 \n",
      "  9  18  27  36  45  54  63  72  81 \n"
     ]
    }
   ],
   "source": [
    "print('-'*27)\n",
    "for i in range(1,10):\n",
    "    for j in range(1,10):\n",
    "        print(f'{i*j:3}', end=' ')\n",
    "    print()\n"
   ]
  },
  {
   "attachments": {},
   "cell_type": "markdown",
   "metadata": {},
   "source": [
    "### 실습1\n",
    "\n",
    "- 전기요금 계산하기"
   ]
  },
  {
   "cell_type": "code",
   "execution_count": 33,
   "metadata": {},
   "outputs": [
    {
     "name": "stdout",
     "output_type": "stream",
     "text": [
      "총 전기요금은 33717원 입니다.\n"
     ]
    }
   ],
   "source": [
    "def electricPay(amount):\n",
    "    pay=0\n",
    "    \n",
    "    if amount<100:\n",
    "        pay = 410+60.7*amount\n",
    "    elif amount<=200:\n",
    "        pay = 910+60.7*100+125.9*(amount-100)\n",
    "    else:\n",
    "        pay = 1600+60.7*100+125.9*100+187.9*(amount-200)\n",
    "    \n",
    "    total_pay = int(pay*(1+0.1+0.037))\n",
    "    \n",
    "    return total_pay\n",
    "amount = int(input('전기사용량을 입력하세요.: '))\n",
    "print(f'총 전기요금은 {electricPay(amount)}원 입니다.')"
   ]
  },
  {
   "attachments": {},
   "cell_type": "markdown",
   "metadata": {},
   "source": [
    "### 실습2\n",
    "- +,- 번갈아 출력하기"
   ]
  },
  {
   "attachments": {},
   "cell_type": "markdown",
   "metadata": {},
   "source": [
    "v1"
   ]
  },
  {
   "cell_type": "code",
   "execution_count": 36,
   "metadata": {},
   "outputs": [
    {
     "name": "stdout",
     "output_type": "stream",
     "text": [
      "+-+-+-+-+-+-+-\n"
     ]
    }
   ],
   "source": [
    "num = int(input('몇 개를 출력하실건가요?: '))\n",
    "\n",
    "for i in range(num):\n",
    "    if i%2 == 0:\n",
    "        print('+',end='')\n",
    "    else:\n",
    "        print('-',end='')\n",
    "print()\n"
   ]
  },
  {
   "attachments": {},
   "cell_type": "markdown",
   "metadata": {},
   "source": [
    "v2"
   ]
  },
  {
   "cell_type": "code",
   "execution_count": 49,
   "metadata": {},
   "outputs": [
    {
     "name": "stdout",
     "output_type": "stream",
     "text": [
      "+-+-\n"
     ]
    }
   ],
   "source": [
    "num = int(input('몇 개를 출력하실건가요?: '))\n",
    "\n",
    "print('+-'*(num//2),end='')\n",
    "if num%2==1:\n",
    "    print('+')\n",
    "else:\n",
    "    print()\n"
   ]
  },
  {
   "attachments": {},
   "cell_type": "markdown",
   "metadata": {},
   "source": [
    "### 실습3\n",
    "- 8은 건너뛰고 숫자열 출력하기"
   ]
  },
  {
   "attachments": {},
   "cell_type": "markdown",
   "metadata": {},
   "source": [
    "v1"
   ]
  },
  {
   "cell_type": "code",
   "execution_count": 50,
   "metadata": {},
   "outputs": [
    {
     "name": "stdout",
     "output_type": "stream",
     "text": [
      "1 2 3 4 5 6 7 9 10 11 12 "
     ]
    }
   ],
   "source": [
    "for i in range(1,13):\n",
    "    if i==8:\n",
    "        print(end='')\n",
    "    else:\n",
    "        print(i,end=' ')"
   ]
  },
  {
   "attachments": {},
   "cell_type": "markdown",
   "metadata": {},
   "source": [
    "v2"
   ]
  },
  {
   "cell_type": "code",
   "execution_count": 52,
   "metadata": {},
   "outputs": [
    {
     "name": "stdout",
     "output_type": "stream",
     "text": [
      "1 2 3 4 5 6 7 9 10 11 12 "
     ]
    }
   ],
   "source": [
    "for i in range(1,13):\n",
    "    if i==8: continue\n",
    "    else:\n",
    "        print(i,end=' ')"
   ]
  },
  {
   "attachments": {},
   "cell_type": "markdown",
   "metadata": {},
   "source": [
    "### 실습4\n",
    "- 입력한 정수의 제곱형태 찾기"
   ]
  },
  {
   "cell_type": "code",
   "execution_count": 9,
   "metadata": {},
   "outputs": [
    {
     "name": "stdout",
     "output_type": "stream",
     "text": [
      "결과가 없습니다.\n"
     ]
    }
   ],
   "source": [
    "num = int(input('정수를 입력하세요.: '))\n",
    "count = 0\n",
    "\n",
    "for i in range(1,num+1):\n",
    "    for j in range(2,6):\n",
    "        if i**j == num:\n",
    "            print(f'{i}**{j} = {num} 입니다.')\n",
    "            count+=1\n",
    "\n",
    "if count == 0:\n",
    "    print('결과가 없습니다.')\n"
   ]
  },
  {
   "cell_type": "code",
   "execution_count": null,
   "metadata": {},
   "outputs": [],
   "source": []
  }
 ],
 "metadata": {
  "kernelspec": {
   "display_name": "base",
   "language": "python",
   "name": "python3"
  },
  "language_info": {
   "codemirror_mode": {
    "name": "ipython",
    "version": 3
   },
   "file_extension": ".py",
   "mimetype": "text/x-python",
   "name": "python",
   "nbconvert_exporter": "python",
   "pygments_lexer": "ipython3",
   "version": "3.9.13 (main, Aug 25 2022, 23:51:50) [MSC v.1916 64 bit (AMD64)]"
  },
  "orig_nbformat": 4,
  "vscode": {
   "interpreter": {
    "hash": "f08154012ddadd8e950e6e9e035c7a7b32c136e7647e9b7c77e02eb723a8bedb"
   }
  }
 },
 "nbformat": 4,
 "nbformat_minor": 2
}
